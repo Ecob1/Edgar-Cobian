{
  "nbformat": 4,
  "nbformat_minor": 0,
  "metadata": {
    "colab": {
      "name": "Intro.ipynb",
      "provenance": [],
      "collapsed_sections": [],
      "authorship_tag": "ABX9TyNwT/4aKK8avJ8x8F9VgIWn",
      "include_colab_link": true
    },
    "kernelspec": {
      "name": "python3",
      "display_name": "Python 3"
    },
    "language_info": {
      "name": "python"
    }
  },
  "cells": [
    {
      "cell_type": "markdown",
      "metadata": {
        "id": "view-in-github",
        "colab_type": "text"
      },
      "source": [
        "<a href=\"https://colab.research.google.com/github/Ecob1/Edgar-Cobian/blob/main/template.ipynb\" target=\"_parent\"><img src=\"https://colab.research.google.com/assets/colab-badge.svg\" alt=\"Open In Colab\"/></a>"
      ]
    },
    {
      "cell_type": "code",
      "execution_count": 1,
      "metadata": {
        "id": "a7QTnKAXZ-cB",
        "colab": {
          "base_uri": "https://localhost:8080/"
        },
        "outputId": "8d28d310-aba3-4f3b-9211-f9e0bd5c6e8e"
      },
      "outputs": [
        {
          "output_type": "stream",
          "name": "stdout",
          "text": [
            "Hello Guero\n",
            "Holibia durmiendo\n"
          ]
        }
      ],
      "source": [
        "print(\"Hello Guero\")\n",
        "print('Holibia durmiendo')"
      ]
    },
    {
      "cell_type": "code",
      "source": [
        "print(\"Hello Valdo\")"
      ],
      "metadata": {
        "id": "nWuyHGw_gJZd"
      },
      "execution_count": null,
      "outputs": []
    }
  ]
}